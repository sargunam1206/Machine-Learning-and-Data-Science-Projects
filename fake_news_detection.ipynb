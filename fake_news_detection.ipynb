{
  "nbformat": 4,
  "nbformat_minor": 0,
  "metadata": {
    "colab": {
      "provenance": [],
      "toc_visible": true,
      "authorship_tag": "ABX9TyN8Uos+HqpxjuWbA0vbO4At",
      "include_colab_link": true
    },
    "kernelspec": {
      "name": "python3",
      "display_name": "Python 3"
    },
    "language_info": {
      "name": "python"
    }
  },
  "cells": [
    {
      "cell_type": "markdown",
      "metadata": {
        "id": "view-in-github",
        "colab_type": "text"
      },
      "source": [
        "<a href=\"https://colab.research.google.com/github/sargunam1206/naan-mudhalvan-NM2023TMID00042-Subscribers-Galore-Exploring-the-World-s-Top-YouTube-Channels/blob/main/fake_news_detection.ipynb\" target=\"_parent\"><img src=\"https://colab.research.google.com/assets/colab-badge.svg\" alt=\"Open In Colab\"/></a>"
      ]
    },
    {
      "cell_type": "code",
      "execution_count": null,
      "metadata": {
        "colab": {
          "base_uri": "https://localhost:8080/"
        },
        "id": "00A6nA-4A855",
        "outputId": "bfe979e4-eb69-4717-a401-43a18a1dd0e0"
      },
      "outputs": [
        {
          "output_type": "stream",
          "name": "stderr",
          "text": [
            "[nltk_data] Downloading package stopwords to /root/nltk_data...\n",
            "[nltk_data]   Unzipping corpora/stopwords.zip.\n"
          ]
        }
      ],
      "source": [
        "import pandas as pd\n",
        "import numpy as np\n",
        "from matplotlib import pyplot as plt\n",
        "import seaborn as sns\n",
        "import nltk\n",
        "nltk.download('stopwords')\n",
        "import re\n",
        "from nltk.corpus import stopwords\n",
        "from nltk.stem.porter import PorterStemmer\n",
        "from sklearn.feature_extraction.text import TfidfVectorizer"
      ]
    },
    {
      "cell_type": "code",
      "source": [
        "df = pd.read_csv('/content/fake_and_real_news.csv')"
      ],
      "metadata": {
        "id": "QvK_bqjKBZqs"
      },
      "execution_count": null,
      "outputs": []
    },
    {
      "cell_type": "code",
      "source": [
        "df.head()"
      ],
      "metadata": {
        "colab": {
          "base_uri": "https://localhost:8080/",
          "height": 206
        },
        "id": "DNBqGDi5BZ2K",
        "outputId": "9681d7f7-f020-4677-a607-507e044bd2ad"
      },
      "execution_count": null,
      "outputs": [
        {
          "output_type": "execute_result",
          "data": {
            "text/plain": [
              "                                                Text label\n",
              "0   Top Trump Surrogate BRUTALLY Stabs Him In The...  Fake\n",
              "1  U.S. conservative leader optimistic of common ...  Real\n",
              "2  Trump proposes U.S. tax overhaul, stirs concer...  Real\n",
              "3   Court Forces Ohio To Allow Millions Of Illega...  Fake\n",
              "4  Democrats say Trump agrees to work on immigrat...  Real"
            ],
            "text/html": [
              "\n",
              "  <div id=\"df-3d10e3d6-465b-49b4-a49b-650378439ad2\" class=\"colab-df-container\">\n",
              "    <div>\n",
              "<style scoped>\n",
              "    .dataframe tbody tr th:only-of-type {\n",
              "        vertical-align: middle;\n",
              "    }\n",
              "\n",
              "    .dataframe tbody tr th {\n",
              "        vertical-align: top;\n",
              "    }\n",
              "\n",
              "    .dataframe thead th {\n",
              "        text-align: right;\n",
              "    }\n",
              "</style>\n",
              "<table border=\"1\" class=\"dataframe\">\n",
              "  <thead>\n",
              "    <tr style=\"text-align: right;\">\n",
              "      <th></th>\n",
              "      <th>Text</th>\n",
              "      <th>label</th>\n",
              "    </tr>\n",
              "  </thead>\n",
              "  <tbody>\n",
              "    <tr>\n",
              "      <th>0</th>\n",
              "      <td>Top Trump Surrogate BRUTALLY Stabs Him In The...</td>\n",
              "      <td>Fake</td>\n",
              "    </tr>\n",
              "    <tr>\n",
              "      <th>1</th>\n",
              "      <td>U.S. conservative leader optimistic of common ...</td>\n",
              "      <td>Real</td>\n",
              "    </tr>\n",
              "    <tr>\n",
              "      <th>2</th>\n",
              "      <td>Trump proposes U.S. tax overhaul, stirs concer...</td>\n",
              "      <td>Real</td>\n",
              "    </tr>\n",
              "    <tr>\n",
              "      <th>3</th>\n",
              "      <td>Court Forces Ohio To Allow Millions Of Illega...</td>\n",
              "      <td>Fake</td>\n",
              "    </tr>\n",
              "    <tr>\n",
              "      <th>4</th>\n",
              "      <td>Democrats say Trump agrees to work on immigrat...</td>\n",
              "      <td>Real</td>\n",
              "    </tr>\n",
              "  </tbody>\n",
              "</table>\n",
              "</div>\n",
              "    <div class=\"colab-df-buttons\">\n",
              "\n",
              "  <div class=\"colab-df-container\">\n",
              "    <button class=\"colab-df-convert\" onclick=\"convertToInteractive('df-3d10e3d6-465b-49b4-a49b-650378439ad2')\"\n",
              "            title=\"Convert this dataframe to an interactive table.\"\n",
              "            style=\"display:none;\">\n",
              "\n",
              "  <svg xmlns=\"http://www.w3.org/2000/svg\" height=\"24px\" viewBox=\"0 -960 960 960\">\n",
              "    <path d=\"M120-120v-720h720v720H120Zm60-500h600v-160H180v160Zm220 220h160v-160H400v160Zm0 220h160v-160H400v160ZM180-400h160v-160H180v160Zm440 0h160v-160H620v160ZM180-180h160v-160H180v160Zm440 0h160v-160H620v160Z\"/>\n",
              "  </svg>\n",
              "    </button>\n",
              "\n",
              "  <style>\n",
              "    .colab-df-container {\n",
              "      display:flex;\n",
              "      gap: 12px;\n",
              "    }\n",
              "\n",
              "    .colab-df-convert {\n",
              "      background-color: #E8F0FE;\n",
              "      border: none;\n",
              "      border-radius: 50%;\n",
              "      cursor: pointer;\n",
              "      display: none;\n",
              "      fill: #1967D2;\n",
              "      height: 32px;\n",
              "      padding: 0 0 0 0;\n",
              "      width: 32px;\n",
              "    }\n",
              "\n",
              "    .colab-df-convert:hover {\n",
              "      background-color: #E2EBFA;\n",
              "      box-shadow: 0px 1px 2px rgba(60, 64, 67, 0.3), 0px 1px 3px 1px rgba(60, 64, 67, 0.15);\n",
              "      fill: #174EA6;\n",
              "    }\n",
              "\n",
              "    .colab-df-buttons div {\n",
              "      margin-bottom: 4px;\n",
              "    }\n",
              "\n",
              "    [theme=dark] .colab-df-convert {\n",
              "      background-color: #3B4455;\n",
              "      fill: #D2E3FC;\n",
              "    }\n",
              "\n",
              "    [theme=dark] .colab-df-convert:hover {\n",
              "      background-color: #434B5C;\n",
              "      box-shadow: 0px 1px 3px 1px rgba(0, 0, 0, 0.15);\n",
              "      filter: drop-shadow(0px 1px 2px rgba(0, 0, 0, 0.3));\n",
              "      fill: #FFFFFF;\n",
              "    }\n",
              "  </style>\n",
              "\n",
              "    <script>\n",
              "      const buttonEl =\n",
              "        document.querySelector('#df-3d10e3d6-465b-49b4-a49b-650378439ad2 button.colab-df-convert');\n",
              "      buttonEl.style.display =\n",
              "        google.colab.kernel.accessAllowed ? 'block' : 'none';\n",
              "\n",
              "      async function convertToInteractive(key) {\n",
              "        const element = document.querySelector('#df-3d10e3d6-465b-49b4-a49b-650378439ad2');\n",
              "        const dataTable =\n",
              "          await google.colab.kernel.invokeFunction('convertToInteractive',\n",
              "                                                    [key], {});\n",
              "        if (!dataTable) return;\n",
              "\n",
              "        const docLinkHtml = 'Like what you see? Visit the ' +\n",
              "          '<a target=\"_blank\" href=https://colab.research.google.com/notebooks/data_table.ipynb>data table notebook</a>'\n",
              "          + ' to learn more about interactive tables.';\n",
              "        element.innerHTML = '';\n",
              "        dataTable['output_type'] = 'display_data';\n",
              "        await google.colab.output.renderOutput(dataTable, element);\n",
              "        const docLink = document.createElement('div');\n",
              "        docLink.innerHTML = docLinkHtml;\n",
              "        element.appendChild(docLink);\n",
              "      }\n",
              "    </script>\n",
              "  </div>\n",
              "\n",
              "\n",
              "<div id=\"df-b4b1330e-55e4-465a-9e59-3684f4ac5b49\">\n",
              "  <button class=\"colab-df-quickchart\" onclick=\"quickchart('df-b4b1330e-55e4-465a-9e59-3684f4ac5b49')\"\n",
              "            title=\"Suggest charts\"\n",
              "            style=\"display:none;\">\n",
              "\n",
              "<svg xmlns=\"http://www.w3.org/2000/svg\" height=\"24px\"viewBox=\"0 0 24 24\"\n",
              "     width=\"24px\">\n",
              "    <g>\n",
              "        <path d=\"M19 3H5c-1.1 0-2 .9-2 2v14c0 1.1.9 2 2 2h14c1.1 0 2-.9 2-2V5c0-1.1-.9-2-2-2zM9 17H7v-7h2v7zm4 0h-2V7h2v10zm4 0h-2v-4h2v4z\"/>\n",
              "    </g>\n",
              "</svg>\n",
              "  </button>\n",
              "\n",
              "<style>\n",
              "  .colab-df-quickchart {\n",
              "      --bg-color: #E8F0FE;\n",
              "      --fill-color: #1967D2;\n",
              "      --hover-bg-color: #E2EBFA;\n",
              "      --hover-fill-color: #174EA6;\n",
              "      --disabled-fill-color: #AAA;\n",
              "      --disabled-bg-color: #DDD;\n",
              "  }\n",
              "\n",
              "  [theme=dark] .colab-df-quickchart {\n",
              "      --bg-color: #3B4455;\n",
              "      --fill-color: #D2E3FC;\n",
              "      --hover-bg-color: #434B5C;\n",
              "      --hover-fill-color: #FFFFFF;\n",
              "      --disabled-bg-color: #3B4455;\n",
              "      --disabled-fill-color: #666;\n",
              "  }\n",
              "\n",
              "  .colab-df-quickchart {\n",
              "    background-color: var(--bg-color);\n",
              "    border: none;\n",
              "    border-radius: 50%;\n",
              "    cursor: pointer;\n",
              "    display: none;\n",
              "    fill: var(--fill-color);\n",
              "    height: 32px;\n",
              "    padding: 0;\n",
              "    width: 32px;\n",
              "  }\n",
              "\n",
              "  .colab-df-quickchart:hover {\n",
              "    background-color: var(--hover-bg-color);\n",
              "    box-shadow: 0 1px 2px rgba(60, 64, 67, 0.3), 0 1px 3px 1px rgba(60, 64, 67, 0.15);\n",
              "    fill: var(--button-hover-fill-color);\n",
              "  }\n",
              "\n",
              "  .colab-df-quickchart-complete:disabled,\n",
              "  .colab-df-quickchart-complete:disabled:hover {\n",
              "    background-color: var(--disabled-bg-color);\n",
              "    fill: var(--disabled-fill-color);\n",
              "    box-shadow: none;\n",
              "  }\n",
              "\n",
              "  .colab-df-spinner {\n",
              "    border: 2px solid var(--fill-color);\n",
              "    border-color: transparent;\n",
              "    border-bottom-color: var(--fill-color);\n",
              "    animation:\n",
              "      spin 1s steps(1) infinite;\n",
              "  }\n",
              "\n",
              "  @keyframes spin {\n",
              "    0% {\n",
              "      border-color: transparent;\n",
              "      border-bottom-color: var(--fill-color);\n",
              "      border-left-color: var(--fill-color);\n",
              "    }\n",
              "    20% {\n",
              "      border-color: transparent;\n",
              "      border-left-color: var(--fill-color);\n",
              "      border-top-color: var(--fill-color);\n",
              "    }\n",
              "    30% {\n",
              "      border-color: transparent;\n",
              "      border-left-color: var(--fill-color);\n",
              "      border-top-color: var(--fill-color);\n",
              "      border-right-color: var(--fill-color);\n",
              "    }\n",
              "    40% {\n",
              "      border-color: transparent;\n",
              "      border-right-color: var(--fill-color);\n",
              "      border-top-color: var(--fill-color);\n",
              "    }\n",
              "    60% {\n",
              "      border-color: transparent;\n",
              "      border-right-color: var(--fill-color);\n",
              "    }\n",
              "    80% {\n",
              "      border-color: transparent;\n",
              "      border-right-color: var(--fill-color);\n",
              "      border-bottom-color: var(--fill-color);\n",
              "    }\n",
              "    90% {\n",
              "      border-color: transparent;\n",
              "      border-bottom-color: var(--fill-color);\n",
              "    }\n",
              "  }\n",
              "</style>\n",
              "\n",
              "  <script>\n",
              "    async function quickchart(key) {\n",
              "      const quickchartButtonEl =\n",
              "        document.querySelector('#' + key + ' button');\n",
              "      quickchartButtonEl.disabled = true;  // To prevent multiple clicks.\n",
              "      quickchartButtonEl.classList.add('colab-df-spinner');\n",
              "      try {\n",
              "        const charts = await google.colab.kernel.invokeFunction(\n",
              "            'suggestCharts', [key], {});\n",
              "      } catch (error) {\n",
              "        console.error('Error during call to suggestCharts:', error);\n",
              "      }\n",
              "      quickchartButtonEl.classList.remove('colab-df-spinner');\n",
              "      quickchartButtonEl.classList.add('colab-df-quickchart-complete');\n",
              "    }\n",
              "    (() => {\n",
              "      let quickchartButtonEl =\n",
              "        document.querySelector('#df-b4b1330e-55e4-465a-9e59-3684f4ac5b49 button');\n",
              "      quickchartButtonEl.style.display =\n",
              "        google.colab.kernel.accessAllowed ? 'block' : 'none';\n",
              "    })();\n",
              "  </script>\n",
              "</div>\n",
              "\n",
              "    </div>\n",
              "  </div>\n"
            ],
            "application/vnd.google.colaboratory.intrinsic+json": {
              "type": "dataframe",
              "variable_name": "df",
              "summary": "{\n  \"name\": \"df\",\n  \"rows\": 9900,\n  \"fields\": [\n    {\n      \"column\": \"Text\",\n      \"properties\": {\n        \"dtype\": \"string\",\n        \"num_unique_values\": 9865,\n        \"samples\": [\n          \" ICYMI: SNL Skewers \\u201cMorning Joe\\u201d And It Is Hilarious This week s cold open for Saturday Night Live featured a parody of the morning show, Morning Joe. The sketch featured Alex Moffat as host Joe Scarborough and Kate McKinnon as Mika Mika Brzezinski. The sketch also has Alec Baldwin as President Donald Trump, who calls into the show as  John Miller,  a spokesperson for the White House. Back in the day, Trump was known for calling reporters all over the New York area pretending to be his own publicist. He would call, not to tout his business successes but to brag about his sex life.The sketch also made fun of the relationship between the hosts. The pair got engaged recently when they were celebrating Mika s 50th birthday. The sketch shows the response from the other panelists on the show, Mark Halperin, Willie Geist and Mike Barnacle, who all have no idea how to respond to Joe and Mika s behavior on the set.Featured image via Frederick M. Brown/Getty Images.\",\n          \" BOMBSHELL: Information Suggests Trump Associates DID Collude With Russia, According To Officials Wednesday was not a good day to be Donald Trump. In the aftermath of the disastrous Comey hearing where it was confirmed that The Donald s team was indeed being investigated   and of Rep. Nunes  decision to skip informing his fellow congressional Russia investigators of perfectly legal  incidental collection  of information about Trump associates and possibly the President* himself and run to The Donald with it instead   Trump has been flailing, attempting to distract from the whole Russia thing as much as possible.That s going to be very hard now, as U.S. officials have now confirmed that the facts suggest that members of his team were indeed working with the enemy. CNN reports:The FBI has information that indicates associates of President Donald Trump communicated with suspected Russian operatives to possibly coordinate the release of information damaging to Hillary Clinton s campaign, US officials told CNN.\",\n          \" Vladimir Putin Just Defended Trump In The WORST Way Possible (VIDEO) According to Russian dictator Vladimir Putin, it s silly to worry about little things like whether or not a couple of Russian ladies peed on Donald Trump s bed because it s much, much worse to publish memos that reveal these allegations.Putin says that there is a conspiracy to  delegitimize  the man and his team of hackers, fake news writers, and trolls he worked hard to install in the Oval Office by hacking Trump s political opponents and running an aggressive propaganda campaign. I don t know Mr. Trump, I have never met him, I don t know what he will do in the international arena, so I have no reason either to attack him, criticize him or defend him, Putin said at a press conference. Donald Trump has been with the most beautiful women in the world, so why would he need prostitutes in Moscow? To answer that question, we need only look to a 2001 edition of the Howard Stern Show in which Trump was reminded that he bragged that he likes to go to Russia to have sex with women because they  have no morals. Putin says that Russian security services  do not chase every US billionaire,  and that the release of the documents was worse than prostitutes. In a way, he s right, as the documents presented to both Trump and President Obama also allege that members of the President-elect s campaign staff directly worked with the Russian government during the campaign.On numerous occasions, Trump has repeated Russian propaganda while attacking U.S. intelligence agencies that have been exposing him for what he is and, of course, has directly quoted Putin (a man whom Trump says is  very smart ) while hurling barbs at Hillary Clinton.Trump and Putin have been screaming about the  fake news  release of actual documents that actual intelligence agencies are in possession of, but the BBC reported recently that the whole pissing Russian ladies thing is just the tip of the iceberg. Correspondent Paul Wood revealed last week that at least four sources have confirmed the information, with one U.S. intelligence source informing him that there is audio and video of The Donald s escapades, and an Israeli news source reports that the country s spies have been warned against sharing information with the United States for fear that Trump will relay it to Putin.Putin and Trump s bromance is disconcerting at best   especially when more than a baker s dozen intelligence agencies have confirmed that the man who stood up to join Trump in his attacks on our intelligence agencies has been confirmed to have interfered in our election.Watch it below:Featured image via Getty Images\"\n        ],\n        \"semantic_type\": \"\",\n        \"description\": \"\"\n      }\n    },\n    {\n      \"column\": \"label\",\n      \"properties\": {\n        \"dtype\": \"category\",\n        \"num_unique_values\": 2,\n        \"samples\": [\n          \"Real\",\n          \"Fake\"\n        ],\n        \"semantic_type\": \"\",\n        \"description\": \"\"\n      }\n    }\n  ]\n}"
            }
          },
          "metadata": {},
          "execution_count": 18
        }
      ]
    },
    {
      "cell_type": "code",
      "source": [
        "df.value_counts()"
      ],
      "metadata": {
        "colab": {
          "base_uri": "https://localhost:8080/"
        },
        "id": "QwrjZlhRBaDP",
        "outputId": "58cb1f2a-72bc-4a25-c9a6-7a8d98112a0e"
      },
      "execution_count": null,
      "outputs": [
        {
          "output_type": "execute_result",
          "data": {
            "text/plain": [
              "Text                                                                                                                                                                                                                                                                                                                                                                                                                                                                                                                                                                                                                                                                                                                                                                                                                                                                                                                                                                                                                                                                                                                                                                                                                                                                                                                                                                                                                                                                                                                                                                                                                                                                                                                                                                                                                                                                                                                                                                                                                                                                                                                                                                                                                                                                                                                                                                                                                                                                                                                                                                                                                                                                                                                                                                                                                                                                                                                                                                                                                                                                                                                                                                                                                                                                                                                                                                                                                                                                                                                                                                                                                                                                                                                                                                                                                                                                                                                                                                                                                                                                                                                                                                                                                                                                                                                                                                                                                                                                                                                                                                                                                                                                                                                                                                                                                                                                                                                                                                                                                                                                                                                                                                                                                                                                                                                                                                                                                                                                                                                                                                                                                                                                                                                                                                                                                                                                                                                                                   label\n",
              "Highlights: The Trump presidency on April 13 at 9:30 P.M. EDT/0130 GMT on Friday (Reuters) - Highlights for U.S. President Donald Trump’s administration on Thursday: The United States drops a massive GBU-43 bomb, the largest non-nuclear bomb it has ever used in combat, in Afghanistan against a series of caves used by Islamic State militants, the Pentagon says. Trump says Pyongyang is a problem that “will be taken care of” amid speculation that North Korea is on the verge of a sixth nuclear test. Military force cannot resolve tension over North Korea, China warns, while an influential Chinese newspaper urges Pyongyang to halt its nuclear program in exchange for Beijing’s protection. The Trump administration is focusing its North Korea strategy on tougher economic sanctions, possibly including intercepting cargo ships and punishing Chinese banks doing business with Pyongyang, U.S. officials say. Trump says “things will work out fine” between the United States and Russia, a day after declaring U.S.-Russian relations may be at an all-time low. Trump signals he could be moving closer to the mainstream on monetary policy, saying he has not ruled out reappointment of Janet Yellen as Federal Reserve chair as he considers his choices for the U.S. central bank. [nL1N1HL14B] Trump signs a resolution that will allow U.S. states to restrict how federal funds for contraception and reproductive health are spent, a move cheered by anti-abortion campaigners. Democratic Senator Chris Van Hollen presses Deutsche Bank to release information about issues including Trump’s debt and any bank meetings with Trump administration officials, saying he has “great concern” about possible conflicts of interest. EXPORT-IMPORT BANK Trump’s office says he plans to revive the hobbled Export-Import Bank of the United States, a victory for American manufacturers such as Boeing Co and General Electric Co that have overseas customers that use the agency’s government-backed loans to purchase their products. Top Wall Street bankers say they are having positive discussions about financial regulation in Washington, and downplay the idea U.S. policymakers may force their institutions to split up. The United States is pushing for trade to be a key issue in top-level economic talks with Japan, a source says, an unwelcome development for Tokyo, which is seeking to fend off U.S. pressure to reduce the bilateral trade imbalance. Trump’s administration has focused on one group of illegal immigrants more than others: women with children, according to eight Department of Homeland Security officials interviewed by Reuters about agency planning.                                                                                                                                                                                                                                                                                                                                                                                                                                                                                                                                                                                                                                                                                                                                                                                                                                                                                                                                                                                                                                                                                                                                                                                                                                                                                                                                                                                                                                                                                                                                                                                                                                                                                                                                                                                                                                                                                                                                                                                                                                                                                                                                                                                                                                                                                                                                                                                                                                                                                                                                                                                                                                                                                                                                                                                                                                                                                                                                                                                                                                                                                                                                                                                                        Real     8\n",
              "Highlights: The Trump presidency on March 31 at 6:19 p.m. EDT (Reuters) - Highlights of the day for U.S. President Donald Trump’s administration on Friday: Trump backs a decision by his former national security adviser, Michael Flynn, to seek immunity in congressional investigations of possible ties between his campaign and Russia, but there is no immediate sign the request will be granted.  The Trump administration slams China on a range of trade issues from its chronic industrial overcapacity to forced technology transfers and longstanding bans on U.S. beef and electronic payment services. Beijing seeks to play down tensions with the United States and put on a positive face ahead of President Xi Jinping’s first meeting with Trump next week. Senate Democrats step closer to having enough votes to block a confirmation vote on Trump’s Supreme Court nominee with three more Democratic senators coming out against Neil Gorsuch for the lifetime job as a justice. Trump seeks to push his plan for fair trade and more manufacturing jobs back to the top of his agenda by ordering a study into the causes of U.S. trade deficits and a clampdown on import duty evasion. Trump has neither a clear White House tax plan nor adequate staff yet to see through a planned tax overhaul, according to interviews with people in the administration, in Congress and among U.S. tax experts. Democrats are trying to counter Trump’s boldest move yet to defang the U.S. consumer financial watchdog, with 40 current and former lawmakers defending the agency in court. The U.S. Environmental Protection Agency’s scientific integrity watchdog is reviewing whether EPA chief Scott Pruitt violated the agency’s policies when he said in a television interview he does not believe carbon dioxide is driving global climate change, according to an email seen by Reuters. Trump will seek to rebuild the U.S. relationship with Egypt at a meeting on Monday with Egyptian President Abdel Fattah al-Sisi focused on security issues and military aid, a senior White House official says. Trump will host Jordan’s King Abdullah at the White House next week to discuss the fight against Islamic State militants, the Syria crisis and advancing peace between Israelis and Palestinians, the White House says. A U.S. judge approves a $25 million settlement to resolve a class action lawsuit that claimed fraud against Trump and his Trump University real estate seminars.                                                                                                                                                                                                                                                                                                                                                                                                                                                                                                                                                                                                                                                                                                                                                                                                                                                                                                                                                                                                                                                                                                                                                                                                                                                                                                                                                                                                                                                                                                                                                                                                                                                                                                                                                                                                                                                                                                                                                                                                                                                                                                                                                                                                                                                                                                                                                                                                                                                                                                                                                                                                                                                                                                                                                                                                                                                                                                                                                                                                                                                                                                                                                                                                                                                                                                                                                                                                                       Real     5\n",
              "Highlights: The Trump presidency on April 21 at 6:12 p.m. EDT/2212 GMT (Reuters) - Highlights for U.S. President Donald Trump’s administration on Friday: Trump promises a big announcement about tax reform next week and orders an administration review of Obama-era tax rules written to discourage U.S. companies from relocating overseas to cut their tax bills. Trump tells the Treasury Department to examine two powers given to regulators to police large financial companies following the 2008 financial crisis. South Korea says it is on heightened alert ahead of another important anniversary in North Korea, with a large concentration of military hardware amassed on both sides of the border amid concerns about a new nuclear test by Pyongyang. Trump, striving to make good on a top campaign promise, is pushing fellow Republicans who control Congress to pass revamped healthcare legislation but the same intraparty squabbling that torpedoed it last month could do it again. Defense Secretary Jim Mattis says Syria has dispersed its warplanes in recent days and that it retains chemical weapons, an issue he says will have to be taken up diplomatically. The Department of Justice threatens to cut off funding to California as well as eight cities and counties across the United States, escalating a Trump administration crackdown on so-called “sanctuary cities” that do not cooperate with federal immigration authorities. The United States will not make an exception for American companies, including oil major Exxon Mobil Corp, seeking to drill in areas prohibited by U.S. sanctions on Russia, Treasury Secretary Steven Mnuchin says.  Trump and his fellow Republicans who control Congress face their first major budget test next week, with the threat of a government shutdown potentially hinging on his proposed Mexican border wall as well as Obamacare funding. The House of Representatives Intelligence Committee says it has invited FBI, National Security Agency and Obama administration officials to testify as it restarts its investigation into alleged Russian meddling in the 2016 U.S. election. U.N. Secretary-General Antonio Guterres meets with Trump at the White House for the first time since both took office earlier this year and amid a U.S. push to cut funding to the world body and its agencies. The United States has offered to help fund Mexico’s efforts to eradicate opium poppies, a U.S. official says, as Mexican heroin output increased again last year.                                                                                                                                                                                                                                                                                                                                                                                                                                                                                                                                                                                                                                                                                                                                                                                                                                                                                                                                                                                                                                                                                                                                                                                                                                                                                                                                                                                                                                                                                                                                                                                                                                                                                                                                                                                                                                                                                                                                                                                                                                                                                                                                                                                                                                                                                                                                                                                                                                                                                                                                                                                                                                                                                                                                                                                                                                                                                                                                                                                                                                                                                                                                                                                                                                                                                                                                                                                Real     5\n",
              "Highlights: The Trump presidency on April 26 at 9:12 P.M. EDT/0112 GMT on April 27 (Reuters) - Highlights for U.S. President Donald Trump’s administration on Wednesday: Trump proposes slashing tax rates for businesses and on overseas corporate profits returned to the country in a plan greeted as an opening gambit by his fellow Republicans in Congress. Trump’s plan could shift the U.S. economy into higher gear but could have one effect the White House would not welcome — interest rates ratcheted higher than expected by a wary central bank. The Trump tax cut will generate growth but not nearly enough to replace trillions of dollars in lost revenues, while rising deficits could even take back some of the economic gains, fiscal experts say. Congress inches toward a deal to fund the government through September but is preparing to possibly extend a midnight Friday deadline in order to wrap up negotiations and avoid an imminent government shutdown. Trump is considering issuing an executive order to pull the United States from the North American Free Trade Agreement, an administration official says, a move that could unravel one of the world’s biggest trading blocs. Trump and Canadian Prime Minister Justin Trudeau discuss bilateral trade in their second conversation in as many days  amid strains over softwood lumber and dairy. The Trump administration says it aims to push North Korea into dismantling its nuclear and missile programs through tougher international sanctions and diplomatic pressure, and remains open to negotiations to bring that about. Trump gives the military the authority to reset a confusing system of troop limits in Iraq and Syria that critics say allows the White House to micro-manage battlefield decisions and ultimately obscures the real number of U.S. forces. Trump signs an executive order to allow national monument designations to be rescinded or reduce the size of sites as the administration pushes to open more federal land to drilling, mining and other development. Trump orders Education Secretary Betsy DeVos to review the government role in school policy, which supporters cheer as a step in creating more local control in education and critics worry it could lead to lower quality schools in poorer neighborhoods. Israel’s intelligence minister says his country wants an “understanding” with the Trump administration that Iran must not be allowed to establish a permanent military foothold in Syria.                                                                                                                                                                                                                                                                                                                                                                                                                                                                                                                                                                                                                                                                                                                                                                                                                                                                                                                                                                                                                                                                                                                                                                                                                                                                                                                                                                                                                                                                                                                                                                                                                                                                                                                                                                                                                                                                                                                                                                                                                                                                                                                                                                                                                                                                                                                                                                                                                                                                                                                                                                                                                                                                                                                                                                                                                                                                                                                                                                                                                                                                                                                                                                                                                                                                                                                                                                                                 Real     3\n",
              "Trump tries to rally support for healthcare bill WASHINGTON (Reuters) - President Donald Trump tried to rally Republican lawmakers behind a plan to dismantle Obamacare on Tuesday as U.S. stock markets showed their worst one-day performance since the November election.  Trump is trying to win the first major legislative battle of his presidency. Pressure is growing on the businessman-turned politician to deliver as investors become worried that a failed healthcare push could also portend trouble for promised tax cuts and relaxed regulation that have propelled the market to record highs in recent months. In one of the few visits he has made to the U.S. Capitol since taking office two months ago, Trump told fellow Republicans in the House of Representatives on Tuesday morning they would face “political problems” for opposing the bill that takes apart Obamacare and partially replaces it. Later in the day, Trump hosted roughly a dozen lawmakers in the Oval Office to listen to their concerns. “The president was really clear: He laid it on the line for everybody,” House Speaker Paul Ryan, the leading proponent of the bill, told reporters. “We made a promise. Now is our time to keep that promise. ... If we don’t keep our promise, it will be very hard to manage this.” The S&P 500 and Dow Jones Industrial Average lost over 1 percent in their worst one-day performances since before Trump’s election victory on Nov. 8. The S&P financial index sank 2.87 percent, its biggest daily fall since June. “You have this back and forth in Congress with the new healthcare plan and you have this belief that if the healthcare plan can’t pass, then they can’t move on to taxes. There’s this feeling that if things don’t get done, then maybe what the market has been anticipating gets held up,” said Mark Kepner, managing director at Themis Trading in Chatham, New Jersey.  Some conservative lawmakers believe the healthcare bill does not go far enough, while moderate Republicans worry that millions of Americans will be hurt by the dismantling of the 2010 Affordable Care Act, Democratic former President Barack Obama's signature healthcare legislation. (For a graphic on how U.S. healthcare stacks up under the ACA and AHCA click tmsnrt.rs/2n0ZMKf)  Party leaders hope to move the bill to the House floor for debate as early as Thursday. But the administration and House leadership can afford to lose only about 20 Republican votes or risk the bill failing since Democrats are united against it. Republican Representative Mark Meadows, chairman of the conservative House Freedom Caucus, said the roughly three dozen members have decided not to vote as a bloc. As many as 21 currently plan to vote no on the legislation, according to a CNN report. Republican Representative Walter Jones said Trump told lawmakers in the closed-door meeting at the Capitol that if the Republican bill does not pass, they would face “political problems.” Jones said he thought Trump meant lawmakers could lose their seats. Repealing and replacing Obamacare was one of Trump’s main campaign promises and has been a goal of Republicans since it was enacted.  While Trump predicted that Republicans could face challenges in primary contests ahead of the 2018 midterm elections if they do not gut Obamacare, there is also danger to them in doing so. If the Republican bill is passed, millions of voters might lose their healthcare coverage. The Congressional Budget Office said last week that 14 million people would forfeit coverage under the House bill over the next year, although that number could change based on the most current version of the legislation.  Nancy Nielsen, associate dean for health policy at the University at Buffalo’s Jacobs School of Medicine, said Republican leaders were in a tough spot. “It is a not-so-delicate balancing act, as they have to win over the most conservative House and Senate members without causing an outrageous backlash from voters now or in the next election,” Nielsen said.  Democrats oppose the Republicans’ plan, saying it would hurt the elderly, poor and working families while giving tax cuts to the wealthy.     Republican leaders tweaked the bill this week to try to satisfy critics, mainly from their own party.  Republican chairmen for two key committees said late Monday they proposed more funding for tax credits, which conservatives have opposed, that would give the Senate flexibility to help older people afford health insurance. Additionally, Obamacare’s taxes would be eliminated in 2017 instead of 2018. The amendments also addressed Medicaid, which is the country’s largest health insurance program and covers about 70 million people, mostly the poor. The changes would allow states to implement work requirements for certain adults, an idea championed by many conservatives, and to decide how they receive federal funds.     Congressman Dan Donovan, who attended the Oval Office meeting on Tuesday, said Trump did “more listening than directing.” There was some “political talk” but “no threats,” he said. Donovan, who has not announced whether he will support the bill, cited people losing Medicaid and the defunding of women’s healthcare provider Planned Parenthood as concerns in his New York district.  The Club for Growth, an influential conservative lobby group, said it would spend at least $500,000 for ads on television and digital platforms urging Congress members to defeat the bill. The Senate also will vote on the legislation, and more changes could be made. Senate Majority Leader Mitch McConnell said that if the House approved a healthcare bill, he would try to bring it to the Senate floor next week.                                                        Real     2\n",
              "                                                                                                                                                                                                                                                                                                                                                                                                                                                                                                                                                                                                                                                                                                                                                                                                                                                                                                                                                                                                                                                                                                                                                                                                                                                                                                                                                                                                                                                                                                                                                                                                                                                                                                                                                                                                                                                                                                                                                                                                                                                                                                                                                                                                                                                                                                                                                                                                                                                                                                                                                                                                                                                                                                                                                                                                                                                                                                                                                                                                                                                                                                                                                                                                                                                                                                                                                                                                                                                                                                                                                                                                                                                                                                                                                                                                                                                                                                                                                                                                                                                                                                                                                                                                                                                                                                                                                                                                                                                                                                                                                                                                                                                                                                                                                                                                                                                                                                                                                                                                                                                                                                                                                                                                                                                                                                                                                                                                                                                                                                                                                                                                                                                                                                                                                                                                                                                                                                                                                               ..\n",
              " Trump Fan: Sexual Assault Victims Should ‘Grow a Set’ And Just ‘Get Over It’ (VIDEO) After former reality show star Donald Trump was caught on video speaking casually about sexually assaulting women, it s clear that his supporters take no issue with that. Sexual assault is a soul-crushing experience but to them, the victim just needs to  get over it.  We ve heard Trump s defenders refer to the Republican presidential candidate s predatory  grab them by the pussy  comments in 1995 as simply  locker room talk.  Maybe they re speaking of the locker rooms at Rikers Island, who knows.It s not just Trump s angry white male supporters, but women, too. In light of recent allegations by up to 12 women who say Trump sexually assaulted or harassed them, CNN s Randi Kaye spoke to Donald s supporters at a rally in Eau Claire, Wisconsin on Tuesday to get their take on it. Donald Trump really has the character of God: a loving, caring father,  one woman told Kaye.  Donald Trump is a man God chose for a time such as this. I think we ve all fallen short from what God expects,  said another.Another said that people just try to  pick on Trump and his character. One man said he s not  looking for someone who is perfect,  but he is looking for  someone to save this country.  That man originally supporter Ben Carson but now, he s on the Trump Train.As for Trump s infamous  grab them by the pussy  comments, one man said it bothered him but added,  Is it a deal breaker? No. One woman said,  Some of that the media has made it be worse than it is. The reported reminded her that his remarks are on tape. The woman said,  Yeah, it doesn t bother me. I think those women need to grow a set, personally,  she continued.  You know, it s been a lot of years. Get over it. Watch:We re pretty sure if her daughter was sexually assaulted, she wouldn t be so dismissive. Or if it happened to her or her mother. But it s OK. It happened to someone else so  get over it.  Such caring conservatives.Reminder: Trump is due in court on December 16th on child rape charges.Don t forget to vote.Image via screen capture.                                                                                                                                                                                                                                                                                                                                                                                                                                                                                                                                                                                                                                                                                                                                                                                                                                                                                                                                                                                                                                                                                                                                                                                                                                                                                                                                                                                                                                                                                                                                                                                                                                                                                                                                                                                                                                                                                                                                                                                                                                                                                                                                                                                                                                                                                                                                                                                                                                                                                                                                                                                                                                                                                                                                                                                                                                                                                                                                                                                                                                                                                                                                                                                                                                                                                                                                                                                                                                                                                                                                                                                                                                                                                                                                                              Fake     1\n",
              " Trump Fans Are Asked About ‘P*ssy Grabbing’ Remarks And It Gets REALLY Bad (VIDEO) Donald Trump s lewd and predatory remarks about women is causing him to lose support with Republicans but his conservative followers just don t care. What s really alarming about this is that we even have to have a discussion to explain that sexual assault is a bad thing.The Daily Show s Jordan Klepper just confirmed that when visiting a Trump rally in Pennsylvania to get his supporters  take on the reality-show-star-turned-GOP-presidential-candidate s  Grab them by the pussy  comments.Klepper asked if Trump had finally crossed the line. One supporter said,  You know what? So what if he wants to grab pussy. I want to grab pussy. I wish I could grab pussy as much as he is. Klepper wondered how they felt about the candidate casually talking about sexual assault. One supporter said it was  just locker room talk. What do you mean?,  Klepper asked.  Guys in a bar talk that way when they see a pretty girl,  the man answered.One female Trump supporter said she s  heard worse. Another woman said,  It s locker room talk. That s what boys do.  It s worth noting here that Trump was not a boy when he made those remarks. He was 60 years old.Klepper told her,  I don t talk like that  then asked her if she has children.  I do,  the woman said. When asked if her children talk like that, she said no.  So not those boys,  Klepper said.  Do you have a husband?  he asked the woman. She said she is married.  Does he talk like that?  he asked.  No,  she said.  So not that boy,  he said.Klepper asked a young man if he uses that language and he said he did not. He asked whether his father talks like that and the young Trump supporter said no.  So who talks like that?  he asked of the man.  Well obviously Donald Trump,  he said.A couple was approached and asked the same question. As it happens, no one with any sense of decency talks like that but every Trump supporter excused their candidate s behavior.One man said,  Grab it while you can, Trump. When asked if there s anything the GOP presidential candidate could say that would make them not vote for him, one man said no while a woman said  No matter what he says, I will vote for Donald Trump. One was was asked if Trump said the n-word, would she still vote for him. She said that she would.One man said he  spoke to a lot of women  at the rally and half of them would  love to have their pussies snatched by Trump. One man s sexual assault,  he said  is another man s flirtation. Here s the video:These are actual voters. Be sure to grab them by the ballots on election day. Trump has emboldened the very worst in our society.Featured image via screen capture                                                                                                                                                                                                                                                                                                                                                                                                                                                                                                                                                                                                                                                                                                                                                                                                                                                                                                                                                                                                                                                                                                                                                                                                                                                                                                                                                                                                                                                                                                                                                                                                                                                                                                                                                                                                                                                                                                                                                                                                                                                                                                                                                                                                                                                                                                                                                                                                                                                                                                                                                                                                                                                                                                                                                                                                                                                                                                                                                                                                                                                                                                                                   Fake     1\n",
              " Trump Fans Are Crying In Their Milk After Their Hero Breaks Yet Another Promise To Them (TWEETS) Trump made a bad decision, or so his ardent followers seem to think. His attempts to work something out with Congressional Democrats on the Deferred Action for Childhood Arrivals (DACA) program, and also his remarks that current construction on his stupid border wall involves mostly existing fencing, have set off their ire. Big-time and small-time MAGAsh*ts alike are crying today, because their rigid, purist minds suffer from severe tunnel vision that doesn t include Trump doing, well, what he s done. They want Trump to do what he promised and damn the consequences to millions who aren t like them.Take Joe Walsh, for example. Walsh is a former U.S. Representative from Illinois  8th district, but his big claim to fame is being a deadbeat dad. All he wants is for Trump to cut his taxes and build the wall. With Trump s latest tweets on DACA and the wall, though, he s ready to abandon Trump and throw his support to probably someone worse:Trump:  We re close to a deal on amnesty. The wall will come later. That s not why we voted for you. https://t.co/0eFMR9jvxT  Joe Walsh (@WalshFreedom) September 14, 2017This is  the art of the deal  right? Can someone remind the president why he was elected?  Joe Walsh (@WalshFreedom) September 14, 2017If true, Trump is done.  Joe Walsh (@WalshFreedom) September 14, 2017We voted for #MAGA, not #DACA.Pull your head out Mr President.  Joe Walsh (@WalshFreedom) September 14, 2017He ran on:  BUILD THE WALL! He didn t run on:  FIX UP SOME OF THE EXISTING FENCING! Not surprising. Just very disappointing.  Joe Walsh (@WalshFreedom) September 14, 2017I m tired of @fox news saying:  It s not the Donald s fault. Big, bad GOP made him do it. Bullshit. Trump is responsible for what he does.  Joe Walsh (@WalshFreedom) September 14, 2017NONE of this is a surprise. I voted 4 Trump knowing he wasn t a Conservative & knowing he had no core.I voted 4 the wall & against amnesty  Joe Walsh (@WalshFreedom) September 14, 2017Then we have Ann Coulter, who seems to have developed some serious regret about writing a book called In Trump We Trust. If Walsh is crying, Coulter is raging: Put a fork in Trump, he s dead.  https://t.co/xEu5lwhmqO  Ann Coulter (@AnnCoulter) September 14, 2017At this point, who DOESN T want Trump impeached? https://t.co/g1mMhmm8ng  Ann Coulter (@AnnCoulter) September 14, 2017If we re not getting a wall, I d prefer President Pence. https://t.co/g1mMhmm8ng  Ann Coulter (@AnnCoulter) September 14, 2017Let s play Jeopardy. ANSWER: An Easter egg. QUESTION: What s the only thing easier to roll than Donald J. Trump?  Ann Coulter (@AnnCoulter) September 14, 2017Let s just tell @realDonaldTrump there was a hurricane at the border. Maybe he ll rush down there with FEMA and build a wall.  Ann Coulter (@AnnCoulter) September 14, 2017What s the only difference between @realDonald Trump & Carrot Top? Carrot Top might actually build the wall.  Ann Coulter (@AnnCoulter) September 14, 2017There are others who are sobbing over Trump s about-face on these issues, too. They were conned, they know it, but they were too dumb and blinded by the racist who said anything they wanted to hear to think this might happen prior to the election.Found this by the side of the road   #amnestydon #burnmyMAGAhat pic.twitter.com/QivQ81xClG  Mickey Kaus (@kausmickey) September 14, 2017Trump s going to have to PAY people to attend his rallies now .and to chant  Build that NEW RENOVATION OF OLD FENCES! Wait, what?? https://t.co/ouSYdSByjJ  Mensans for USA (@Mensans4USA) September 14, 2017Disgusted I ever supported you. My family went through a lot supporting u. Cruz should have been nominee. Despise u & the other GOP traitors  Patriotic Mama  (@BluegillRises) September 14, 2017Live in apartment, can t burn. #AmnestyDon you broke my heart. @realDonaldTrump better look forward to retirement in 2020. #GoGetHimMueller pic.twitter.com/jdO5edLwqo  Impeach Him (@GregPrill) September 14, 2017Trump used the grieving parents of those killed by illegal aliens as props then betrays them like this.#AmnestyDon  mediacritic (@mediacritik) September 14, 2017Do you really want to be remembered as #AmnestyDon, the biggest traitor in US history since Benedict Arnold, and be a one term POTUS?  Adorable Deplorable (@OliMauritania) September 14, 2017Do you really want to turn Florida blue and make our country look like a 3rd world hell hole? Tell us #AmnestyDon?  Adorable Deplorable (@OliMauritania) September 14, 2017#AmnestyDon going to make himself a one term President just so he can get a week s worth of good headlines from the Liberal media. SAD!  Craig ?? Norwalk (@LosGoyers) September 14, 2017I donated, volunteered, & trolled to help pull off the political miracle of the century, & all I got was a guy pushing amnesty. #AmnestyDon  Coach Finstock (@RisenCoach) September 14, 2017Did ivanka cry again or something? #AmnestyDon  Cassandra Fairbanks (@CassandraRules) September 14, 2017.@CassandraRules is speaking for million upon millions of Trump supporters. #NoDACA #AmnestyDon pic.twitter.com/fz3rrzEyRm  Ryan James Girdusky (@RyanGirdusky) September 14, 2017Dear @realDonaldTrump, We didn t elect you to give Dems whatever they want!! We elected you to do what you promised! ?#AmnestyDon #DACADeal  CJ Schafer (@RaisedRightWI) September 14, 2017people aren t gettingJUST HOW F*CKING MADMAGA IS RIGHT NOW There will be no Amnesty - DT Arizona 8-31-16#AmnestyDon  David Alvord (@davealvord164) September 14, 2017Poor Donald can t catch a break, but we can t feel sorry for him or his delusional MAGAs here.Featured image via Justin Merriman/Getty Images  Fake     1\n",
              " Trump Fans At Wisconsin Game Wear Obama Mask With Noose Attached (TWEETS) There s no doubt that two men seated near the front row at Camp Randall Stadium in Madison, Wis., are not Hillary Clinton supporters, nor do they support America s first black president. One of the unidentified men wore a Barack Obama costume to Saturday s Nebraska vs. Wisconsin game which displayed a noose around the neck of the president. The other man was pulling the rope around Obama s neck.I can t imagine what it must be like for people of color who have this experience this disgusting amount of hate everyday. I feel sick pic.twitter.com/KmkxkWNcv3  ? (@woahohkatie) October 29, 2016Here s that image again:Employees at the Wisconsin arena ask the football fan to remove the display.The fan also toted a sign critical of presidential candidate Hillary Clinton. Although the writing on the sign was difficult to decipher in the tweet, judging by the costume we re guessing it wasn t too kind.The situation was brought to the attention of university police on Twitter, but the fan was not removed from the game. The university cited the fan s right to free speech. The Wisconsin police answered tweets from those upset by the costume. Each one said,  While we don t support the offensive image of a noose, its a form of free speech. Guest Svcs. asked them to remove it, they did. @mk_rodgers While we don t support the offensive image of a noose, its a form of free speech. Guest Svcs. asked them to remove it, they did.  UW-Madison Police (@UWMadisonPolice) October 30, 2016At some point, the men exited the arena, this time with one wearing a Donald Trump costume with a noose around Hillary Clinton s neck.It APPEARS the men were first asked to removed the Obama mask then asked to leave. This was their exit  pic.twitter.com/Xv1UxMOfaW  ? (@woahohkatie) October 30, 2016The University of Wisconsin released a statement:During the first half of this evening s Wisconsin football game against Nebraska, UW officials were made aware that an individual in the seating bowl had donned a highly insensitive and offensive costume. UW Athletics  guest services staff were dispatched to the individual s seating area where they asked him to remove the offensive components of the costume. He complied.UW Athletics  policy regarding admission into the stadium with a costume stipulates that no one may be wearing a mask upon entering the facility. Once inside, it is permissible to wear a mask. The costume, while repugnant AND COUNTER TO THE VALUES OF THE UNIVERSITY AND ATHLETIC DEPARTMENT, was an exercise of the individual s right to free speech. The university also exercised its rights by asking the individual to remove the offensive parts of the costume.UW-Madison is dedicated to promoting a campus environment where all people feel valued, safe and able to thrive. To that end, the university continues to encourage all of our community members to engage in discussion over vital issues in ways that promote greater understanding and respect for all persons.What s even more unnerving about the display would be the white people standing around the men seeing nothing wrong with their actions. This was at a football game, not a political event, not that either is acceptable for this sort of behavior.Earlier this month, a man featured a float in a parade displaying Donald Trump executing Hillary Clinton. The float displayed a Trump/Pence sign and a Make America Great Again sign, along with something to do with the Democratic presidential nominee s health.Trump supporters on Twitter are defending the football fans  deplorable behavior, but just as the Indiana man questioned Hillary s health, we should question the mental health of Donald s supporters.Only Trump supporters would find this behavior acceptable while disparaging Colin Kaepernick for his form of silently protesting racial inequality.Image via Twitter.                                                                                                                                                                                                                                                                                                                                                                                                                                                                                                                                                                                                                                                                                                                                                                                                                                                                                                                                                                                                                                                                                                                                                                                                                                                                                                                                                                                                                                                                                                                                                                                                                                                                                                                                                                                                                                                                              Fake     1\n",
              "Zach Johnson, Pieters share lead at Firestone (Reuters) - Late birdies from Thomas Pieters and Zach Johnson gave the duo a share of the lead after the third round of the World Golf Championship-Bridgestone Invitational on Saturday. Pieters, looking to become the first Belgian winner on the PGA Tour, birdied the 18th hole for a four-under-par 66 that moved him to nine-under-par 201 at Firestone Country Club in Akron, Ohio. His late birdie moved him level with twice major winner Johnson, who moments earlier had also birdied the last for a five-under-par 65 that briefly gave him the outright lead. The pair are one shot clear of Australian Scott Hend (63), with Japan’s Hideki Matsuyama (67) two shots back, and Rory McIlroy (68) tied with two others another shot further adrift. “If I would have walked off today with a 65 or a 66, I would have felt that was a fair reflection of how I played,” said McIlroy.  “But only three behind going into tomorrow, I can get off to a fast start and try and put a bit of pressure on the guys up ahead of me.” Overnight leader Jimmy Walker fell back after mixing two double-bogeys with two bogeys and two birdies for a four-over 74 that left him six back in a share of 10th with Bubba Watson (66), Jason Day (70) and U.S. Open champion Brooks Koepka (67). Day was frustrated after following a birdie at the par-five 16th with two bogeys that left him with much more work to do in the final round. “I’m pretty angry right now, to be honest,” said Day. “Going bogey-bogey is pretty poor coming down the stretch. I’ve got to do something special tomorrow so I get my chances back to try and win this thing.” British Open champion Jordan Spieth (71) saw his hopes fade after two bogeys over his final three holes left him seven shots back in a share of 16th. Pieters started the round two shots back of Walker and got off to a sizzling start with four birdies in his first five holes but started to unravel down the stretch. The long-hitting Belgian made a pair of bogeys starting at the 13th that dropped him back into a share of the lead. He did well to make birdie two holes later but then fell back into a share of the lead again after a bogey at the 17th. Hend’s 63, the lowest round of the day by two shots, was built on four birdies on each nine with his only blemish coming in the form of a three-putt bogey at the par-three seventh.                                                                                                                                                                                                                                                                                                                                                                                                                                                                                                                                                                                                                                                                                                                                                                                                                                                                                                                                                                                                                                                                                                                                                                                                                                                                                                                                                                                                                                                                                                                                                                                                                                                                                                                                                                                                                                                                                                                                                                                                                                                                                                                                                                                                                                                                                                                                                                                                                                                                                                                                                                                                                                                                                                                                                                                                                                                                                                                                                                                                                                                                                                                                                                                                                                                                                                                                                                                                                                                                            Real     1\n",
              "Name: count, Length: 9865, dtype: int64"
            ]
          },
          "metadata": {},
          "execution_count": 19
        }
      ]
    },
    {
      "cell_type": "code",
      "source": [
        "def map_category(category):\n",
        "    category_map = {\n",
        "        'Fake': 0,\n",
        "        'Real': 1,\n",
        "    }\n",
        "    return category_map.get(category)\n",
        "df['label'] = df['label'].apply(map_category)"
      ],
      "metadata": {
        "id": "fQrWEwA7CauK"
      },
      "execution_count": null,
      "outputs": []
    },
    {
      "cell_type": "code",
      "source": [
        "df.head()"
      ],
      "metadata": {
        "colab": {
          "base_uri": "https://localhost:8080/",
          "height": 206
        },
        "id": "ZhRun5tcCa6U",
        "outputId": "c18b04a8-b559-4eb8-c372-a29450664b54"
      },
      "execution_count": null,
      "outputs": [
        {
          "output_type": "execute_result",
          "data": {
            "text/plain": [
              "                                                Text  label\n",
              "0   Top Trump Surrogate BRUTALLY Stabs Him In The...      0\n",
              "1  U.S. conservative leader optimistic of common ...      1\n",
              "2  Trump proposes U.S. tax overhaul, stirs concer...      1\n",
              "3   Court Forces Ohio To Allow Millions Of Illega...      0\n",
              "4  Democrats say Trump agrees to work on immigrat...      1"
            ],
            "text/html": [
              "\n",
              "  <div id=\"df-0f778a93-275b-411f-9fc1-c421b751530f\" class=\"colab-df-container\">\n",
              "    <div>\n",
              "<style scoped>\n",
              "    .dataframe tbody tr th:only-of-type {\n",
              "        vertical-align: middle;\n",
              "    }\n",
              "\n",
              "    .dataframe tbody tr th {\n",
              "        vertical-align: top;\n",
              "    }\n",
              "\n",
              "    .dataframe thead th {\n",
              "        text-align: right;\n",
              "    }\n",
              "</style>\n",
              "<table border=\"1\" class=\"dataframe\">\n",
              "  <thead>\n",
              "    <tr style=\"text-align: right;\">\n",
              "      <th></th>\n",
              "      <th>Text</th>\n",
              "      <th>label</th>\n",
              "    </tr>\n",
              "  </thead>\n",
              "  <tbody>\n",
              "    <tr>\n",
              "      <th>0</th>\n",
              "      <td>Top Trump Surrogate BRUTALLY Stabs Him In The...</td>\n",
              "      <td>0</td>\n",
              "    </tr>\n",
              "    <tr>\n",
              "      <th>1</th>\n",
              "      <td>U.S. conservative leader optimistic of common ...</td>\n",
              "      <td>1</td>\n",
              "    </tr>\n",
              "    <tr>\n",
              "      <th>2</th>\n",
              "      <td>Trump proposes U.S. tax overhaul, stirs concer...</td>\n",
              "      <td>1</td>\n",
              "    </tr>\n",
              "    <tr>\n",
              "      <th>3</th>\n",
              "      <td>Court Forces Ohio To Allow Millions Of Illega...</td>\n",
              "      <td>0</td>\n",
              "    </tr>\n",
              "    <tr>\n",
              "      <th>4</th>\n",
              "      <td>Democrats say Trump agrees to work on immigrat...</td>\n",
              "      <td>1</td>\n",
              "    </tr>\n",
              "  </tbody>\n",
              "</table>\n",
              "</div>\n",
              "    <div class=\"colab-df-buttons\">\n",
              "\n",
              "  <div class=\"colab-df-container\">\n",
              "    <button class=\"colab-df-convert\" onclick=\"convertToInteractive('df-0f778a93-275b-411f-9fc1-c421b751530f')\"\n",
              "            title=\"Convert this dataframe to an interactive table.\"\n",
              "            style=\"display:none;\">\n",
              "\n",
              "  <svg xmlns=\"http://www.w3.org/2000/svg\" height=\"24px\" viewBox=\"0 -960 960 960\">\n",
              "    <path d=\"M120-120v-720h720v720H120Zm60-500h600v-160H180v160Zm220 220h160v-160H400v160Zm0 220h160v-160H400v160ZM180-400h160v-160H180v160Zm440 0h160v-160H620v160ZM180-180h160v-160H180v160Zm440 0h160v-160H620v160Z\"/>\n",
              "  </svg>\n",
              "    </button>\n",
              "\n",
              "  <style>\n",
              "    .colab-df-container {\n",
              "      display:flex;\n",
              "      gap: 12px;\n",
              "    }\n",
              "\n",
              "    .colab-df-convert {\n",
              "      background-color: #E8F0FE;\n",
              "      border: none;\n",
              "      border-radius: 50%;\n",
              "      cursor: pointer;\n",
              "      display: none;\n",
              "      fill: #1967D2;\n",
              "      height: 32px;\n",
              "      padding: 0 0 0 0;\n",
              "      width: 32px;\n",
              "    }\n",
              "\n",
              "    .colab-df-convert:hover {\n",
              "      background-color: #E2EBFA;\n",
              "      box-shadow: 0px 1px 2px rgba(60, 64, 67, 0.3), 0px 1px 3px 1px rgba(60, 64, 67, 0.15);\n",
              "      fill: #174EA6;\n",
              "    }\n",
              "\n",
              "    .colab-df-buttons div {\n",
              "      margin-bottom: 4px;\n",
              "    }\n",
              "\n",
              "    [theme=dark] .colab-df-convert {\n",
              "      background-color: #3B4455;\n",
              "      fill: #D2E3FC;\n",
              "    }\n",
              "\n",
              "    [theme=dark] .colab-df-convert:hover {\n",
              "      background-color: #434B5C;\n",
              "      box-shadow: 0px 1px 3px 1px rgba(0, 0, 0, 0.15);\n",
              "      filter: drop-shadow(0px 1px 2px rgba(0, 0, 0, 0.3));\n",
              "      fill: #FFFFFF;\n",
              "    }\n",
              "  </style>\n",
              "\n",
              "    <script>\n",
              "      const buttonEl =\n",
              "        document.querySelector('#df-0f778a93-275b-411f-9fc1-c421b751530f button.colab-df-convert');\n",
              "      buttonEl.style.display =\n",
              "        google.colab.kernel.accessAllowed ? 'block' : 'none';\n",
              "\n",
              "      async function convertToInteractive(key) {\n",
              "        const element = document.querySelector('#df-0f778a93-275b-411f-9fc1-c421b751530f');\n",
              "        const dataTable =\n",
              "          await google.colab.kernel.invokeFunction('convertToInteractive',\n",
              "                                                    [key], {});\n",
              "        if (!dataTable) return;\n",
              "\n",
              "        const docLinkHtml = 'Like what you see? Visit the ' +\n",
              "          '<a target=\"_blank\" href=https://colab.research.google.com/notebooks/data_table.ipynb>data table notebook</a>'\n",
              "          + ' to learn more about interactive tables.';\n",
              "        element.innerHTML = '';\n",
              "        dataTable['output_type'] = 'display_data';\n",
              "        await google.colab.output.renderOutput(dataTable, element);\n",
              "        const docLink = document.createElement('div');\n",
              "        docLink.innerHTML = docLinkHtml;\n",
              "        element.appendChild(docLink);\n",
              "      }\n",
              "    </script>\n",
              "  </div>\n",
              "\n",
              "\n",
              "<div id=\"df-147b8be8-5761-4301-b84c-3f8991184199\">\n",
              "  <button class=\"colab-df-quickchart\" onclick=\"quickchart('df-147b8be8-5761-4301-b84c-3f8991184199')\"\n",
              "            title=\"Suggest charts\"\n",
              "            style=\"display:none;\">\n",
              "\n",
              "<svg xmlns=\"http://www.w3.org/2000/svg\" height=\"24px\"viewBox=\"0 0 24 24\"\n",
              "     width=\"24px\">\n",
              "    <g>\n",
              "        <path d=\"M19 3H5c-1.1 0-2 .9-2 2v14c0 1.1.9 2 2 2h14c1.1 0 2-.9 2-2V5c0-1.1-.9-2-2-2zM9 17H7v-7h2v7zm4 0h-2V7h2v10zm4 0h-2v-4h2v4z\"/>\n",
              "    </g>\n",
              "</svg>\n",
              "  </button>\n",
              "\n",
              "<style>\n",
              "  .colab-df-quickchart {\n",
              "      --bg-color: #E8F0FE;\n",
              "      --fill-color: #1967D2;\n",
              "      --hover-bg-color: #E2EBFA;\n",
              "      --hover-fill-color: #174EA6;\n",
              "      --disabled-fill-color: #AAA;\n",
              "      --disabled-bg-color: #DDD;\n",
              "  }\n",
              "\n",
              "  [theme=dark] .colab-df-quickchart {\n",
              "      --bg-color: #3B4455;\n",
              "      --fill-color: #D2E3FC;\n",
              "      --hover-bg-color: #434B5C;\n",
              "      --hover-fill-color: #FFFFFF;\n",
              "      --disabled-bg-color: #3B4455;\n",
              "      --disabled-fill-color: #666;\n",
              "  }\n",
              "\n",
              "  .colab-df-quickchart {\n",
              "    background-color: var(--bg-color);\n",
              "    border: none;\n",
              "    border-radius: 50%;\n",
              "    cursor: pointer;\n",
              "    display: none;\n",
              "    fill: var(--fill-color);\n",
              "    height: 32px;\n",
              "    padding: 0;\n",
              "    width: 32px;\n",
              "  }\n",
              "\n",
              "  .colab-df-quickchart:hover {\n",
              "    background-color: var(--hover-bg-color);\n",
              "    box-shadow: 0 1px 2px rgba(60, 64, 67, 0.3), 0 1px 3px 1px rgba(60, 64, 67, 0.15);\n",
              "    fill: var(--button-hover-fill-color);\n",
              "  }\n",
              "\n",
              "  .colab-df-quickchart-complete:disabled,\n",
              "  .colab-df-quickchart-complete:disabled:hover {\n",
              "    background-color: var(--disabled-bg-color);\n",
              "    fill: var(--disabled-fill-color);\n",
              "    box-shadow: none;\n",
              "  }\n",
              "\n",
              "  .colab-df-spinner {\n",
              "    border: 2px solid var(--fill-color);\n",
              "    border-color: transparent;\n",
              "    border-bottom-color: var(--fill-color);\n",
              "    animation:\n",
              "      spin 1s steps(1) infinite;\n",
              "  }\n",
              "\n",
              "  @keyframes spin {\n",
              "    0% {\n",
              "      border-color: transparent;\n",
              "      border-bottom-color: var(--fill-color);\n",
              "      border-left-color: var(--fill-color);\n",
              "    }\n",
              "    20% {\n",
              "      border-color: transparent;\n",
              "      border-left-color: var(--fill-color);\n",
              "      border-top-color: var(--fill-color);\n",
              "    }\n",
              "    30% {\n",
              "      border-color: transparent;\n",
              "      border-left-color: var(--fill-color);\n",
              "      border-top-color: var(--fill-color);\n",
              "      border-right-color: var(--fill-color);\n",
              "    }\n",
              "    40% {\n",
              "      border-color: transparent;\n",
              "      border-right-color: var(--fill-color);\n",
              "      border-top-color: var(--fill-color);\n",
              "    }\n",
              "    60% {\n",
              "      border-color: transparent;\n",
              "      border-right-color: var(--fill-color);\n",
              "    }\n",
              "    80% {\n",
              "      border-color: transparent;\n",
              "      border-right-color: var(--fill-color);\n",
              "      border-bottom-color: var(--fill-color);\n",
              "    }\n",
              "    90% {\n",
              "      border-color: transparent;\n",
              "      border-bottom-color: var(--fill-color);\n",
              "    }\n",
              "  }\n",
              "</style>\n",
              "\n",
              "  <script>\n",
              "    async function quickchart(key) {\n",
              "      const quickchartButtonEl =\n",
              "        document.querySelector('#' + key + ' button');\n",
              "      quickchartButtonEl.disabled = true;  // To prevent multiple clicks.\n",
              "      quickchartButtonEl.classList.add('colab-df-spinner');\n",
              "      try {\n",
              "        const charts = await google.colab.kernel.invokeFunction(\n",
              "            'suggestCharts', [key], {});\n",
              "      } catch (error) {\n",
              "        console.error('Error during call to suggestCharts:', error);\n",
              "      }\n",
              "      quickchartButtonEl.classList.remove('colab-df-spinner');\n",
              "      quickchartButtonEl.classList.add('colab-df-quickchart-complete');\n",
              "    }\n",
              "    (() => {\n",
              "      let quickchartButtonEl =\n",
              "        document.querySelector('#df-147b8be8-5761-4301-b84c-3f8991184199 button');\n",
              "      quickchartButtonEl.style.display =\n",
              "        google.colab.kernel.accessAllowed ? 'block' : 'none';\n",
              "    })();\n",
              "  </script>\n",
              "</div>\n",
              "\n",
              "    </div>\n",
              "  </div>\n"
            ],
            "application/vnd.google.colaboratory.intrinsic+json": {
              "type": "dataframe",
              "variable_name": "df",
              "summary": "{\n  \"name\": \"df\",\n  \"rows\": 9900,\n  \"fields\": [\n    {\n      \"column\": \"Text\",\n      \"properties\": {\n        \"dtype\": \"string\",\n        \"num_unique_values\": 9865,\n        \"samples\": [\n          \" ICYMI: SNL Skewers \\u201cMorning Joe\\u201d And It Is Hilarious This week s cold open for Saturday Night Live featured a parody of the morning show, Morning Joe. The sketch featured Alex Moffat as host Joe Scarborough and Kate McKinnon as Mika Mika Brzezinski. The sketch also has Alec Baldwin as President Donald Trump, who calls into the show as  John Miller,  a spokesperson for the White House. Back in the day, Trump was known for calling reporters all over the New York area pretending to be his own publicist. He would call, not to tout his business successes but to brag about his sex life.The sketch also made fun of the relationship between the hosts. The pair got engaged recently when they were celebrating Mika s 50th birthday. The sketch shows the response from the other panelists on the show, Mark Halperin, Willie Geist and Mike Barnacle, who all have no idea how to respond to Joe and Mika s behavior on the set.Featured image via Frederick M. Brown/Getty Images.\",\n          \" BOMBSHELL: Information Suggests Trump Associates DID Collude With Russia, According To Officials Wednesday was not a good day to be Donald Trump. In the aftermath of the disastrous Comey hearing where it was confirmed that The Donald s team was indeed being investigated   and of Rep. Nunes  decision to skip informing his fellow congressional Russia investigators of perfectly legal  incidental collection  of information about Trump associates and possibly the President* himself and run to The Donald with it instead   Trump has been flailing, attempting to distract from the whole Russia thing as much as possible.That s going to be very hard now, as U.S. officials have now confirmed that the facts suggest that members of his team were indeed working with the enemy. CNN reports:The FBI has information that indicates associates of President Donald Trump communicated with suspected Russian operatives to possibly coordinate the release of information damaging to Hillary Clinton s campaign, US officials told CNN.\",\n          \" Vladimir Putin Just Defended Trump In The WORST Way Possible (VIDEO) According to Russian dictator Vladimir Putin, it s silly to worry about little things like whether or not a couple of Russian ladies peed on Donald Trump s bed because it s much, much worse to publish memos that reveal these allegations.Putin says that there is a conspiracy to  delegitimize  the man and his team of hackers, fake news writers, and trolls he worked hard to install in the Oval Office by hacking Trump s political opponents and running an aggressive propaganda campaign. I don t know Mr. Trump, I have never met him, I don t know what he will do in the international arena, so I have no reason either to attack him, criticize him or defend him, Putin said at a press conference. Donald Trump has been with the most beautiful women in the world, so why would he need prostitutes in Moscow? To answer that question, we need only look to a 2001 edition of the Howard Stern Show in which Trump was reminded that he bragged that he likes to go to Russia to have sex with women because they  have no morals. Putin says that Russian security services  do not chase every US billionaire,  and that the release of the documents was worse than prostitutes. In a way, he s right, as the documents presented to both Trump and President Obama also allege that members of the President-elect s campaign staff directly worked with the Russian government during the campaign.On numerous occasions, Trump has repeated Russian propaganda while attacking U.S. intelligence agencies that have been exposing him for what he is and, of course, has directly quoted Putin (a man whom Trump says is  very smart ) while hurling barbs at Hillary Clinton.Trump and Putin have been screaming about the  fake news  release of actual documents that actual intelligence agencies are in possession of, but the BBC reported recently that the whole pissing Russian ladies thing is just the tip of the iceberg. Correspondent Paul Wood revealed last week that at least four sources have confirmed the information, with one U.S. intelligence source informing him that there is audio and video of The Donald s escapades, and an Israeli news source reports that the country s spies have been warned against sharing information with the United States for fear that Trump will relay it to Putin.Putin and Trump s bromance is disconcerting at best   especially when more than a baker s dozen intelligence agencies have confirmed that the man who stood up to join Trump in his attacks on our intelligence agencies has been confirmed to have interfered in our election.Watch it below:Featured image via Getty Images\"\n        ],\n        \"semantic_type\": \"\",\n        \"description\": \"\"\n      }\n    },\n    {\n      \"column\": \"label\",\n      \"properties\": {\n        \"dtype\": \"number\",\n        \"std\": 0,\n        \"min\": 0,\n        \"max\": 1,\n        \"num_unique_values\": 2,\n        \"samples\": [\n          1,\n          0\n        ],\n        \"semantic_type\": \"\",\n        \"description\": \"\"\n      }\n    }\n  ]\n}"
            }
          },
          "metadata": {},
          "execution_count": 21
        }
      ]
    },
    {
      "cell_type": "code",
      "source": [
        "total_word_count = 0\n",
        "for content in df['Text']:\n",
        "    total_word_count += sum(1 for _ in content.split())\n",
        "print(total_word_count)"
      ],
      "metadata": {
        "colab": {
          "base_uri": "https://localhost:8080/"
        },
        "id": "szgNJ4NrCbEG",
        "outputId": "5a2ca350-e3ba-4184-9e88-58e5489d54b4"
      },
      "execution_count": null,
      "outputs": [
        {
          "output_type": "stream",
          "name": "stdout",
          "text": [
            "4188085\n"
          ]
        }
      ]
    },
    {
      "cell_type": "code",
      "source": [
        "ps = PorterStemmer()"
      ],
      "metadata": {
        "id": "4vusUWo-CbMH"
      },
      "execution_count": null,
      "outputs": []
    },
    {
      "cell_type": "code",
      "source": [
        "def stemming(content):\n",
        "    stemmed_content = re.sub('[^a-zA-Z]',' ',content)\n",
        "    stemmed_content = stemmed_content.lower()\n",
        "    stemmed_content = stemmed_content.split()\n",
        "    stemmed_content = [ps.stem(word) for word in stemmed_content if not word in stopwords.words('english')]\n",
        "    stemmed_content = \" \".join(stemmed_content)\n",
        "    return stemmed_content"
      ],
      "metadata": {
        "id": "GajiIiEtCoXx"
      },
      "execution_count": null,
      "outputs": []
    },
    {
      "cell_type": "code",
      "source": [
        "from sklearn.model_selection import train_test_split\n",
        "from sklearn.svm import SVC, SVR"
      ],
      "metadata": {
        "id": "pOMnvRQNC1se"
      },
      "execution_count": null,
      "outputs": []
    },
    {
      "cell_type": "code",
      "source": [
        "df['Text'] = df['Text'].apply(stemming)"
      ],
      "metadata": {
        "id": "6oiJTY6ZGqtv"
      },
      "execution_count": null,
      "outputs": []
    },
    {
      "cell_type": "code",
      "source": [
        "X = df['Text']\n",
        "Y = df['label']"
      ],
      "metadata": {
        "id": "Cqu2RiQ-C2A_"
      },
      "execution_count": null,
      "outputs": []
    },
    {
      "cell_type": "code",
      "source": [
        "X_train , X_test , Y_train , Y_test  = train_test_split(X, Y, test_size = 0.2 , stratify = Y , random_state = 42)"
      ],
      "metadata": {
        "id": "z34Kt60xC2RA"
      },
      "execution_count": null,
      "outputs": []
    },
    {
      "cell_type": "code",
      "source": [
        "vc = TfidfVectorizer()\n",
        "X_train = vc.fit_transform(X_train)\n",
        "X_test = vc.transform(X_test)"
      ],
      "metadata": {
        "id": "BjXTwpSLDLVN"
      },
      "execution_count": null,
      "outputs": []
    },
    {
      "cell_type": "code",
      "source": [
        "from sklearn.metrics import accuracy_score, classification_report, f1_score\n",
        "from sklearn.svm import SVC"
      ],
      "metadata": {
        "id": "KdSX0yTRDLgb"
      },
      "execution_count": null,
      "outputs": []
    },
    {
      "cell_type": "code",
      "source": [
        "model = SVC()\n",
        "model.fit(X_train, Y_train)\n",
        "\n",
        "# Make predictions\n",
        "Y_pred_cls = model.predict(X_test)\n",
        "\n",
        "accuracy_cls = accuracy_score(Y_test, Y_pred_cls)\n",
        "\n",
        "f1_cls = f1_score(Y_test, Y_pred_cls, average='weighted')\n",
        "\n",
        "report_cls = classification_report(Y_test, Y_pred_cls)\n",
        "\n",
        "# Print the results for classification\n",
        "print(f\"Model: SVM\")\n",
        "print(f\"Accuracy: {accuracy_cls:.4f}\")\n",
        "print(f\"F1-Score: {f1_cls:.4f}\")\n",
        "print(f\"Classification Report:\\n{report_cls}\")\n",
        "print(\"=\"*50)"
      ],
      "metadata": {
        "id": "ylM4JolrDXAa",
        "colab": {
          "base_uri": "https://localhost:8080/"
        },
        "outputId": "ca0fe31f-a078-410f-e636-6cb9fb4e2802"
      },
      "execution_count": null,
      "outputs": [
        {
          "output_type": "stream",
          "name": "stdout",
          "text": [
            "Model: SVM\n",
            "Accuracy: 0.9939\n",
            "F1-Score: 0.9939\n",
            "Classification Report:\n",
            "              precision    recall  f1-score   support\n",
            "\n",
            "           0       0.99      1.00      0.99      1000\n",
            "           1       1.00      0.99      0.99       980\n",
            "\n",
            "    accuracy                           0.99      1980\n",
            "   macro avg       0.99      0.99      0.99      1980\n",
            "weighted avg       0.99      0.99      0.99      1980\n",
            "\n",
            "==================================================\n"
          ]
        }
      ]
    },
    {
      "cell_type": "code",
      "source": [
        "def val_to_category(val):\n",
        "    category_map = {\n",
        "        0:'Fake',\n",
        "        1:'Real'\n",
        "     }\n",
        "    return category_map.get(val,-1)"
      ],
      "metadata": {
        "id": "D-E7fOJiDXTc"
      },
      "execution_count": null,
      "outputs": []
    },
    {
      "cell_type": "code",
      "source": [
        "def make_predictions(text):\n",
        "    text = stemming(text)\n",
        "    text = vc.transform([text])\n",
        "    val = model.predict(text)\n",
        "    val = val_to_category(int(val[0]))\n",
        "    print(\"News category is : \",val)"
      ],
      "metadata": {
        "id": "SUubE1opDXfm"
      },
      "execution_count": null,
      "outputs": []
    },
    {
      "cell_type": "code",
      "source": [
        "make_predictions('kolhi have 50 centuries')"
      ],
      "metadata": {
        "id": "mPc_6Z_oDmDx",
        "colab": {
          "base_uri": "https://localhost:8080/"
        },
        "outputId": "3990b15c-91ad-4d85-faf9-8a2027c4faa0"
      },
      "execution_count": null,
      "outputs": [
        {
          "output_type": "stream",
          "name": "stdout",
          "text": [
            "News category is :  Real\n"
          ]
        }
      ]
    },
    {
      "cell_type": "code",
      "source": [
        "make_predictions('google is no longer the best search engine')"
      ],
      "metadata": {
        "id": "lne_3oH3DmTQ",
        "colab": {
          "base_uri": "https://localhost:8080/"
        },
        "outputId": "2f166b48-2b87-40c4-d3e2-f2ba68580d92"
      },
      "execution_count": null,
      "outputs": [
        {
          "output_type": "stream",
          "name": "stdout",
          "text": [
            "News category is :  Fake\n"
          ]
        }
      ]
    }
  ]
}